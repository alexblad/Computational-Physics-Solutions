{
 "cells": [
  {
   "cell_type": "code",
   "execution_count": 17,
   "id": "c6122113",
   "metadata": {
    "scrolled": true
   },
   "outputs": [
    {
     "name": "stdout",
     "output_type": "stream",
     "text": [
      "How tall(m) is the tower? 100\n",
      "The ball takes 4.52 seconds to fall.\n"
     ]
    }
   ],
   "source": [
    "import math \n",
    "\n",
    "height= float(input(\"How tall(m) is the tower? \"))\n",
    "\n",
    "s=height\n",
    "g=9.81\n",
    "time=math.sqrt((2*s)/g)\n",
    "\n",
    "print(\"The ball takes\",f'{time:.2f}',\"seconds to fall.\")"
   ]
  },
  {
   "cell_type": "code",
   "execution_count": 18,
   "id": "977fe7ca",
   "metadata": {
    "scrolled": true
   },
   "outputs": [
    {
     "name": "stdout",
     "output_type": "stream",
     "text": [
      "Is your period in s, m, or h? h\n",
      "Please enter your period. 23.93\n",
      "The height of the satellite is 35773762.33 meters.\n"
     ]
    }
   ],
   "source": [
    "##Part a) of exercise 2.2\n",
    "\n",
    "import numpy as np\n",
    "\n",
    "##These are constants\n",
    "G= 6.67e-11\n",
    "M=5.97e24\n",
    "R= 6371e3\n",
    "\n",
    "##This input asks the user to specify if the period is in seconds\n",
    "##minutes, or hours\n",
    "type_t=input(\"Is your period in s, m, or h? \")\n",
    "\n",
    "##Converts period into seconds if needed\n",
    "if type_t == \"s\": \n",
    "    T=float(input(\"Please enter your period. \"))\n",
    "       \n",
    "elif type_t == \"m\":\n",
    "    T=60*float(input(\"Please enter your period. \"))\n",
    "          \n",
    "else:\n",
    "    T=3600*float(input(\"Please enter your period. \"))\n",
    "    \n",
    "\n",
    "#Calculates height of sattelite in meters, the print\n",
    "height=((G*M*T**2/(4*np.pi**2)))**(1/3) - R\n",
    "print('The height of the satellite is', f'{height:.2f}', 'meters.')"
   ]
  },
  {
   "cell_type": "code",
   "execution_count": 21,
   "id": "28056e6e",
   "metadata": {
    "scrolled": true
   },
   "outputs": [
    {
     "name": "stdout",
     "output_type": "stream",
     "text": [
      "82147.85\n"
     ]
    }
   ],
   "source": [
    "##Exercise 2.2 Questions\n",
    "\n",
    "## c) Altitude at \n",
    "## 1 day- The height of the satellite is 35855910.18 meters.\n",
    "## 90 minutes- The height of the satellite is 279321.63 meters.\n",
    "## 45 minutes- The height of the satellite is -2181559.90 meters.\n",
    "## Given that the output of the orbit for period T=45 minutes is negative,\n",
    "## it is not possible to have a satellite with that period T. \n",
    "\n",
    "## d) A sidereal day is the amount of time it takes for the Earth to complete\n",
    "## a full 360 degree rotation. The 24 hour time period is a solar day which is\n",
    "## how long it takes the Earth to rotate until the Sun is a the same place in the \n",
    "## sky as the day prior. The Earth has to rotate a little more thann 360 degrees\n",
    "## for this to happen, so there is a slight time difference. It makes a difference of\n",
    "dif=35855910.18-35773762.33\n",
    "print(f'{dif:.2f}')\n",
    "## approximately 82 kilometers to the altitude of the satellite. "
   ]
  },
  {
   "cell_type": "code",
   "execution_count": null,
   "id": "e1cc1284",
   "metadata": {},
   "outputs": [],
   "source": []
  }
 ],
 "metadata": {
  "kernelspec": {
   "display_name": "Python 3 (ipykernel)",
   "language": "python",
   "name": "python3"
  },
  "language_info": {
   "codemirror_mode": {
    "name": "ipython",
    "version": 3
   },
   "file_extension": ".py",
   "mimetype": "text/x-python",
   "name": "python",
   "nbconvert_exporter": "python",
   "pygments_lexer": "ipython3",
   "version": "3.10.9"
  }
 },
 "nbformat": 4,
 "nbformat_minor": 5
}
